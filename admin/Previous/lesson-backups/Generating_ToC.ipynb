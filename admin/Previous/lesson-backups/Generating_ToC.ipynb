{
 "cells": [
  {
   "cell_type": "markdown",
   "metadata": {},
   "source": [
    "# Generating Table of Contents for HTML Files"
   ]
  },
  {
   "cell_type": "code",
   "execution_count": 8,
   "metadata": {},
   "outputs": [
    {
     "data": {
      "text/plain": [
       "['1 Downloading and Installing Required Apps.html',\n",
       " '2.1_Clone_dojo-env-setup_repo.html',\n",
       " '2.5_setting_the_default_env.html',\n",
       " '1_1_windows.html',\n",
       " '2.2_open_the_repo.html',\n",
       " '3_install_code_editor.html',\n",
       " '2_Setting_Up_dojo-env.html',\n",
       " '1_1_mac_apple_chip.html',\n",
       " '0 Installation Overview.html',\n",
       " '1_1_mac_intel.html',\n",
       " '2.3_create_dojo-env.html',\n",
       " 'Updating_dojo_env.html',\n",
       " '2.4_testing_the_env.html']"
      ]
     },
     "execution_count": 8,
     "metadata": {},
     "output_type": "execute_result"
    }
   ],
   "source": [
    "import os\n",
    "\n",
    "fnames = os.listdir(\"Vers 2/\")\n",
    "fnames"
   ]
  },
  {
   "cell_type": "code",
   "execution_count": 18,
   "metadata": {},
   "outputs": [
    {
     "data": {
      "text/plain": [
       "'1 Downloading and Installing Required Apps.html'"
      ]
     },
     "execution_count": 18,
     "metadata": {},
     "output_type": "execute_result"
    }
   ],
   "source": [
    "file = fnames[0]\n",
    "file"
   ]
  },
  {
   "cell_type": "code",
   "execution_count": 19,
   "metadata": {},
   "outputs": [
    {
     "data": {
      "text/plain": [
       "'1 Downloading And Installing Required Apps'"
      ]
     },
     "execution_count": 19,
     "metadata": {},
     "output_type": "execute_result"
    }
   ],
   "source": [
    "## ToC Displayed Named\n",
    "name = file.replace(\"_\",' ').replace(\".html\",\"\").title()\n",
    "name"
   ]
  },
  {
   "cell_type": "code",
   "execution_count": 20,
   "metadata": {},
   "outputs": [
    {
     "data": {
      "text/plain": [
       "'lesson-backups/Vers 2/1 Downloading and Installing Required Apps.html'"
      ]
     },
     "execution_count": 20,
     "metadata": {},
     "output_type": "execute_result"
    }
   ],
   "source": [
    "## folder from README\n",
    "prefix = \"lesson-backups/Vers 2/\"\n",
    "full_fname = os.path.join(prefix,file)\n",
    "full_fname"
   ]
  },
  {
   "cell_type": "code",
   "execution_count": 21,
   "metadata": {},
   "outputs": [
    {
     "data": {
      "text/plain": [
       "'[1 Downloading And Installing Required Apps](lesson-backups/Vers 2/1 Downloading and Installing Required Apps.html)'"
      ]
     },
     "execution_count": 21,
     "metadata": {},
     "output_type": "execute_result"
    }
   ],
   "source": [
    "# toc entry\n",
    "f\"[{name}]({full_fname})\""
   ]
  },
  {
   "cell_type": "code",
   "execution_count": 33,
   "metadata": {},
   "outputs": [
    {
     "data": {
      "text/plain": [
       "['- [1 Downloading And Installing Required Apps](\"./lesson-backups/Vers 2/1 Downloading and Installing Required Apps.html\")',\n",
       " '- [2.1 Clone Dojo-Env-Setup Repo](\"./lesson-backups/Vers 2/2.1_Clone_dojo-env-setup_repo.html\")',\n",
       " '- [2.5 Setting The Default Env](\"./lesson-backups/Vers 2/2.5_setting_the_default_env.html\")',\n",
       " '- [1 1 Windows](\"./lesson-backups/Vers 2/1_1_windows.html\")',\n",
       " '- [2.2 Open The Repo](\"./lesson-backups/Vers 2/2.2_open_the_repo.html\")',\n",
       " '- [3 Install Code Editor](\"./lesson-backups/Vers 2/3_install_code_editor.html\")',\n",
       " '- [2 Setting Up Dojo-Env](\"./lesson-backups/Vers 2/2_Setting_Up_dojo-env.html\")',\n",
       " '- [1 1 Mac Apple Chip](\"./lesson-backups/Vers 2/1_1_mac_apple_chip.html\")',\n",
       " '- [0 Installation Overview](\"./lesson-backups/Vers 2/0 Installation Overview.html\")',\n",
       " '- [1 1 Mac Intel](\"./lesson-backups/Vers 2/1_1_mac_intel.html\")',\n",
       " '- [2.3 Create Dojo-Env](\"./lesson-backups/Vers 2/2.3_create_dojo-env.html\")',\n",
       " '- [Updating Dojo Env](\"./lesson-backups/Vers 2/Updating_dojo_env.html\")',\n",
       " '- [2.4 Testing The Env](\"./lesson-backups/Vers 2/2.4_testing_the_env.html\")']"
      ]
     },
     "execution_count": 33,
     "metadata": {},
     "output_type": "execute_result"
    }
   ],
   "source": [
    "prefix = \"./lesson-backups/Vers 2/\"\n",
    "toc_list = []\n",
    "for file in fnames:\n",
    "\tname = file.replace(\"_\",' ').replace(\".html\",\"\").title()\n",
    "\tfull_fname = os.path.join(prefix,file)\n",
    "\ttoc_list.append(f'- [{name}](\"{full_fname}\")')\n",
    "toc_list"
   ]
  },
  {
   "cell_type": "code",
   "execution_count": 36,
   "metadata": {},
   "outputs": [
    {
     "data": {
      "text/plain": [
       "'- [1 Downloading And Installing Required Apps](\"./lesson-backups/Vers 2/1 Downloading and Installing Required Apps.html\")\\n- [2.1 Clone Dojo-Env-Setup Repo](\"./lesson-backups/Vers 2/2.1_Clone_dojo-env-setup_repo.html\")\\n- [2.5 Setting The Default Env](\"./lesson-backups/Vers 2/2.5_setting_the_default_env.html\")\\n- [1 1 Windows](\"./lesson-backups/Vers 2/1_1_windows.html\")\\n- [2.2 Open The Repo](\"./lesson-backups/Vers 2/2.2_open_the_repo.html\")\\n- [3 Install Code Editor](\"./lesson-backups/Vers 2/3_install_code_editor.html\")\\n- [2 Setting Up Dojo-Env](\"./lesson-backups/Vers 2/2_Setting_Up_dojo-env.html\")\\n- [1 1 Mac Apple Chip](\"./lesson-backups/Vers 2/1_1_mac_apple_chip.html\")\\n- [0 Installation Overview](\"./lesson-backups/Vers 2/0 Installation Overview.html\")\\n- [1 1 Mac Intel](\"./lesson-backups/Vers 2/1_1_mac_intel.html\")\\n- [2.3 Create Dojo-Env](\"./lesson-backups/Vers 2/2.3_create_dojo-env.html\")\\n- [Updating Dojo Env](\"./lesson-backups/Vers 2/Updating_dojo_env.html\")\\n- [2.4 Testing The Env](\"./lesson-backups/Vers 2/2.4_testing_the_env.html\")'"
      ]
     },
     "execution_count": 36,
     "metadata": {},
     "output_type": "execute_result"
    }
   ],
   "source": [
    "'\\n'.join(toc_list)"
   ]
  },
  {
   "cell_type": "code",
   "execution_count": 35,
   "metadata": {},
   "outputs": [
    {
     "data": {
      "text/markdown": [
       "- [1 Downloading And Installing Required Apps](\"./lesson-backups/Vers 2/1 Downloading and Installing Required Apps.html\")\n",
       "- [2.1 Clone Dojo-Env-Setup Repo](\"./lesson-backups/Vers 2/2.1_Clone_dojo-env-setup_repo.html\")\n",
       "- [2.5 Setting The Default Env](\"./lesson-backups/Vers 2/2.5_setting_the_default_env.html\")\n",
       "- [1 1 Windows](\"./lesson-backups/Vers 2/1_1_windows.html\")\n",
       "- [2.2 Open The Repo](\"./lesson-backups/Vers 2/2.2_open_the_repo.html\")\n",
       "- [3 Install Code Editor](\"./lesson-backups/Vers 2/3_install_code_editor.html\")\n",
       "- [2 Setting Up Dojo-Env](\"./lesson-backups/Vers 2/2_Setting_Up_dojo-env.html\")\n",
       "- [1 1 Mac Apple Chip](\"./lesson-backups/Vers 2/1_1_mac_apple_chip.html\")\n",
       "- [0 Installation Overview](\"./lesson-backups/Vers 2/0 Installation Overview.html\")\n",
       "- [1 1 Mac Intel](\"./lesson-backups/Vers 2/1_1_mac_intel.html\")\n",
       "- [2.3 Create Dojo-Env](\"./lesson-backups/Vers 2/2.3_create_dojo-env.html\")\n",
       "- [Updating Dojo Env](\"./lesson-backups/Vers 2/Updating_dojo_env.html\")\n",
       "- [2.4 Testing The Env](\"./lesson-backups/Vers 2/2.4_testing_the_env.html\")"
      ],
      "text/plain": [
       "<IPython.core.display.Markdown object>"
      ]
     },
     "metadata": {},
     "output_type": "display_data"
    }
   ],
   "source": [
    "from IPython.display import display, Markdown\n",
    "display(Markdown('\\n'.join(toc_list)))"
   ]
  },
  {
   "cell_type": "code",
   "execution_count": null,
   "metadata": {},
   "outputs": [],
   "source": []
  }
 ],
 "metadata": {
  "kernelspec": {
   "display_name": "Python 3.8.13 ('dojo-env')",
   "language": "python",
   "name": "python3"
  },
  "language_info": {
   "codemirror_mode": {
    "name": "ipython",
    "version": 3
   },
   "file_extension": ".py",
   "mimetype": "text/x-python",
   "name": "python",
   "nbconvert_exporter": "python",
   "pygments_lexer": "ipython3",
   "version": "3.8.13"
  },
  "orig_nbformat": 4,
  "vscode": {
   "interpreter": {
    "hash": "295804e8e014c2a214e7062c757c6b8addd86bbffb9090c97cdc9a271490da83"
   }
  }
 },
 "nbformat": 4,
 "nbformat_minor": 2
}
