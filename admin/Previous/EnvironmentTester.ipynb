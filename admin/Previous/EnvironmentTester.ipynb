{
 "cells": [
  {
   "cell_type": "markdown",
   "id": "884ad119",
   "metadata": {},
   "source": [
    "# Environment Tester"
   ]
  },
  {
   "cell_type": "markdown",
   "id": "f0f3bcbe",
   "metadata": {},
   "source": [
    "- The following notebook is meant to be a quick summary/verification of your computers environment.\n",
    "- Please run all of the cells to get all of the information displayed. \n",
    "    - Either Press `Shift + Enter` to run each cell \n",
    "    - OR Click on `Kernel`> `Restart & Run All`"
   ]
  },
  {
   "cell_type": "markdown",
   "id": "a6aeb364",
   "metadata": {},
   "source": [
    "## Conda"
   ]
  },
  {
   "cell_type": "code",
   "execution_count": null,
   "id": "01fedf9a",
   "metadata": {
    "ExecuteTime": {
     "end_time": "2022-03-18T19:19:06.491428Z",
     "start_time": "2022-03-18T19:19:06.000940Z"
    }
   },
   "outputs": [],
   "source": [
    "## GET CURRENT ENVIRONMENT INFO\n",
    "%conda info"
   ]
  },
  {
   "cell_type": "code",
   "execution_count": null,
   "id": "e83a69c5",
   "metadata": {
    "ExecuteTime": {
     "end_time": "2022-03-18T19:19:06.636109Z",
     "start_time": "2022-03-18T19:19:06.493981Z"
    }
   },
   "outputs": [],
   "source": [
    "## CHECK PYTHON VERSION (should be 3.7.12)\n",
    "!python --version"
   ]
  },
  {
   "cell_type": "code",
   "execution_count": null,
   "id": "508c0333",
   "metadata": {
    "ExecuteTime": {
     "end_time": "2022-03-18T19:19:06.778365Z",
     "start_time": "2022-03-18T19:19:06.638810Z"
    }
   },
   "outputs": [],
   "source": [
    "## Folder path to python\n",
    "!which python"
   ]
  },
  {
   "cell_type": "markdown",
   "id": "e024806d",
   "metadata": {},
   "source": [
    "## Python Packages"
   ]
  },
  {
   "cell_type": "code",
   "execution_count": null,
   "id": "6fe05fcc",
   "metadata": {
    "ExecuteTime": {
     "end_time": "2022-03-18T19:19:10.450356Z",
     "start_time": "2022-03-18T19:19:06.787635Z"
    }
   },
   "outputs": [],
   "source": [
    "# 1.3.5\n",
    "import pandas as pd\n",
    "pd.__version__"
   ]
  },
  {
   "cell_type": "code",
   "execution_count": null,
   "id": "9948193a",
   "metadata": {
    "ExecuteTime": {
     "end_time": "2022-03-18T19:19:10.453988Z",
     "start_time": "2022-03-18T19:19:10.451503Z"
    }
   },
   "outputs": [],
   "source": [
    "# 1.21.5\n",
    "import numpy as np\n",
    "np.__version__"
   ]
  },
  {
   "cell_type": "code",
   "execution_count": null,
   "id": "c2dd7f0c",
   "metadata": {
    "ExecuteTime": {
     "end_time": "2022-03-18T19:19:11.474748Z",
     "start_time": "2022-03-18T19:19:10.455007Z"
    }
   },
   "outputs": [],
   "source": [
    "# 3.2.2\n",
    "import matplotlib.pyplot as plt\n",
    "import matplotlib as mpl\n",
    "mpl.__version__"
   ]
  },
  {
   "cell_type": "code",
   "execution_count": null,
   "id": "181a1dd9",
   "metadata": {
    "ExecuteTime": {
     "end_time": "2022-03-18T19:19:17.763591Z",
     "start_time": "2022-03-18T19:19:11.476125Z"
    }
   },
   "outputs": [],
   "source": [
    "# 0.11.2\n",
    "import seaborn as sns\n",
    "sns.__version__"
   ]
  },
  {
   "cell_type": "code",
   "execution_count": null,
   "id": "9aa602f4",
   "metadata": {
    "ExecuteTime": {
     "end_time": "2022-03-18T19:19:18.148196Z",
     "start_time": "2022-03-18T19:19:17.764883Z"
    }
   },
   "outputs": [],
   "source": [
    "# 1.0.2\n",
    "import sklearn as sk\n",
    "from sklearn.preprocessing import StandardScaler\n",
    "sk.__version__"
   ]
  },
  {
   "cell_type": "code",
   "execution_count": null,
   "id": "203919a5",
   "metadata": {
    "ExecuteTime": {
     "end_time": "2022-03-18T19:19:18.151500Z",
     "start_time": "2022-03-18T19:19:18.149238Z"
    }
   },
   "outputs": [],
   "source": [
    "# 1.7.3\n",
    "import scipy as sp\n",
    "from scipy import stats\n",
    "sp.__version__"
   ]
  },
  {
   "cell_type": "code",
   "execution_count": null,
   "id": "1abb33c6",
   "metadata": {
    "ExecuteTime": {
     "end_time": "2022-03-18T19:19:22.140260Z",
     "start_time": "2022-03-18T19:19:18.153787Z"
    }
   },
   "outputs": [],
   "source": [
    "# 0.13.2\n",
    "import statsmodels\n",
    "import statsmodels.api as sm\n",
    "statsmodels.__version__"
   ]
  },
  {
   "cell_type": "code",
   "execution_count": null,
   "id": "f5f8d93e",
   "metadata": {
    "ExecuteTime": {
     "end_time": "2022-03-18T19:19:22.213820Z",
     "start_time": "2022-03-18T19:19:22.141607Z"
    }
   },
   "outputs": [],
   "source": [
    "# # 1.21.18\n",
    "# import boto3\n",
    "# boto3.__version__"
   ]
  },
  {
   "cell_type": "code",
   "execution_count": null,
   "id": "20bc3802",
   "metadata": {
    "ExecuteTime": {
     "end_time": "2022-03-18T19:19:22.224948Z",
     "start_time": "2022-03-18T19:19:22.214775Z"
    }
   },
   "outputs": [],
   "source": [
    "# 1.0.2\n",
    "import pymysql\n",
    "pymysql.__version__"
   ]
  },
  {
   "cell_type": "code",
   "execution_count": null,
   "id": "003549e7",
   "metadata": {
    "ExecuteTime": {
     "end_time": "2022-03-18T19:19:22.227849Z",
     "start_time": "2022-03-18T19:19:22.226095Z"
    }
   },
   "outputs": [],
   "source": [
    "## IF USING M1 MAC, IMPORT TENSORFLOW WILL KILL KERNEL!\n",
    "import tensorflow as tf\n",
    "tf.__version__"
   ]
  },
  {
   "cell_type": "markdown",
   "id": "e13c174c",
   "metadata": {},
   "source": [
    "## Jupyter Notebook Extensions"
   ]
  },
  {
   "cell_type": "code",
   "execution_count": null,
   "id": "25b23bf3",
   "metadata": {
    "ExecuteTime": {
     "end_time": "2022-03-18T19:19:27.673484Z",
     "start_time": "2022-03-18T19:19:22.228803Z"
    }
   },
   "outputs": [],
   "source": [
    "# IF THE ABOVE CELL ERROR'D:\n",
    "!pip install jupyter_contrib_nbextensions\n",
    "!jupyter contrib nbextension install --user\n",
    "!jupyter nbextension enable jupyter_nbextensions_configurator"
   ]
  },
  {
   "cell_type": "code",
   "execution_count": null,
   "id": "c6e89862",
   "metadata": {
    "ExecuteTime": {
     "end_time": "2022-03-18T19:19:29.398102Z",
     "start_time": "2022-03-18T19:19:27.676047Z"
    }
   },
   "outputs": [],
   "source": [
    "!jupyter nbextension enable toc2/main\n",
    "!jupyter nbextension enable collapsible_headings/main\n",
    "!jupyter nbextension enable ruler/main\n",
    "!jupyter nbextension enable livemdpreview/livemdpreview \n",
    "!jupyter nbextension enable spellchecker/main"
   ]
  },
  {
   "cell_type": "code",
   "execution_count": null,
   "id": "4b2f5313",
   "metadata": {
    "ExecuteTime": {
     "end_time": "2022-03-18T19:19:29.752897Z",
     "start_time": "2022-03-18T19:19:29.400527Z"
    }
   },
   "outputs": [],
   "source": [
    "## CHeck if nbextensions installed\n",
    "!jupyter nbextension list"
   ]
  },
  {
   "cell_type": "markdown",
   "id": "7807d6f2",
   "metadata": {},
   "source": [
    "## Shell/Terminal"
   ]
  },
  {
   "cell_type": "code",
   "execution_count": null,
   "id": "98c82413",
   "metadata": {
    "ExecuteTime": {
     "end_time": "2022-03-18T19:19:29.892460Z",
     "start_time": "2022-03-18T19:19:29.755634Z"
    }
   },
   "outputs": [],
   "source": [
    "## Which shell - mac users (zsh or bash?)\n",
    "!echo $SHELL"
   ]
  },
  {
   "cell_type": "code",
   "execution_count": null,
   "id": "67795f48",
   "metadata": {
    "ExecuteTime": {
     "end_time": "2022-03-18T19:19:30.041859Z",
     "start_time": "2022-03-18T19:19:29.895608Z"
    }
   },
   "outputs": [],
   "source": [
    "!echo $PATH"
   ]
  }
 ],
 "metadata": {
  "kernelspec": {
   "display_name": "Python (dojo-env-m1)",
   "language": "python",
   "name": "dojo-env-m1"
  },
  "language_info": {
   "codemirror_mode": {
    "name": "ipython",
    "version": 3
   },
   "file_extension": ".py",
   "mimetype": "text/x-python",
   "name": "python",
   "nbconvert_exporter": "python",
   "pygments_lexer": "ipython3",
   "version": "3.8.13"
  },
  "toc": {
   "base_numbering": 1,
   "nav_menu": {},
   "number_sections": true,
   "sideBar": true,
   "skip_h1_title": false,
   "title_cell": "Table of Contents",
   "title_sidebar": "Contents",
   "toc_cell": false,
   "toc_position": {},
   "toc_section_display": true,
   "toc_window_display": false
  }
 },
 "nbformat": 4,
 "nbformat_minor": 5
}
